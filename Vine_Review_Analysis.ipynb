{
  "nbformat": 4,
  "nbformat_minor": 0,
  "metadata": {
    "colab": {
      "name": "Vine_Review_Analysis.ipynb",
      "provenance": [],
      "collapsed_sections": []
    },
    "kernelspec": {
      "name": "python3",
      "display_name": "Python 3"
    },
    "language_info": {
      "name": "python"
    }
  },
  "cells": [
    {
      "cell_type": "code",
      "execution_count": 1,
      "metadata": {
        "colab": {
          "base_uri": "https://localhost:8080/"
        },
        "id": "uZRcCG5LrdEN",
        "outputId": "d5241234-1e52-401e-c3a4-07b26ed6ed80"
      },
      "outputs": [
        {
          "output_type": "stream",
          "name": "stdout",
          "text": [
            "\r0% [Working]\r            \rGet:1 https://cloud.r-project.org/bin/linux/ubuntu bionic-cran40/ InRelease [3,626 B]\n",
            "\r0% [Connecting to archive.ubuntu.com (185.125.190.36)] [Connecting to security.\r0% [Connecting to archive.ubuntu.com (185.125.190.36)] [Connecting to security.\r                                                                               \rGet:2 https://developer.download.nvidia.com/compute/cuda/repos/ubuntu1804/x86_64  InRelease [1,581 B]\n",
            "\r0% [Connecting to archive.ubuntu.com (185.125.190.36)] [Waiting for headers] [W\r0% [1 InRelease gpgv 3,626 B] [Connecting to archive.ubuntu.com (185.125.190.36\r                                                                               \rGet:3 http://security.ubuntu.com/ubuntu bionic-security InRelease [88.7 kB]\n",
            "\r0% [1 InRelease gpgv 3,626 B] [Waiting for headers] [3 InRelease 14.2 kB/88.7 k\r                                                                               \rGet:4 http://ppa.launchpad.net/c2d4u.team/c2d4u4.0+/ubuntu bionic InRelease [15.9 kB]\n",
            "Hit:5 http://archive.ubuntu.com/ubuntu bionic InRelease\n",
            "Ign:6 https://developer.download.nvidia.com/compute/machine-learning/repos/ubuntu1804/x86_64  InRelease\n",
            "Hit:7 https://developer.download.nvidia.com/compute/machine-learning/repos/ubuntu1804/x86_64  Release\n",
            "Get:8 http://archive.ubuntu.com/ubuntu bionic-updates InRelease [88.7 kB]\n",
            "Hit:9 http://ppa.launchpad.net/cran/libgit2/ubuntu bionic InRelease\n",
            "Get:10 http://archive.ubuntu.com/ubuntu bionic-backports InRelease [74.6 kB]\n",
            "Get:11 http://ppa.launchpad.net/deadsnakes/ppa/ubuntu bionic InRelease [15.9 kB]\n",
            "Get:12 https://developer.download.nvidia.com/compute/cuda/repos/ubuntu1804/x86_64  Packages [805 kB]\n",
            "Get:13 http://ppa.launchpad.net/graphics-drivers/ppa/ubuntu bionic InRelease [21.3 kB]\n",
            "Get:15 http://ppa.launchpad.net/c2d4u.team/c2d4u4.0+/ubuntu bionic/main Sources [1,992 kB]\n",
            "Get:16 http://security.ubuntu.com/ubuntu bionic-security/universe amd64 Packages [1,512 kB]\n",
            "Get:17 http://security.ubuntu.com/ubuntu bionic-security/main amd64 Packages [2,799 kB]\n",
            "Get:18 http://ppa.launchpad.net/c2d4u.team/c2d4u4.0+/ubuntu bionic/main amd64 Packages [1,021 kB]\n",
            "Get:19 http://archive.ubuntu.com/ubuntu bionic-updates/universe amd64 Packages [2,286 kB]\n",
            "Get:20 http://archive.ubuntu.com/ubuntu bionic-updates/main amd64 Packages [3,231 kB]\n",
            "Get:21 http://ppa.launchpad.net/deadsnakes/ppa/ubuntu bionic/main amd64 Packages [45.3 kB]\n",
            "Get:22 http://ppa.launchpad.net/graphics-drivers/ppa/ubuntu bionic/main amd64 Packages [47.7 kB]\n",
            "Fetched 14.0 MB in 4s (3,946 kB/s)\n",
            "Reading package lists... Done\n"
          ]
        }
      ],
      "source": [
        "import os\n",
        "# Find the latest version of spark 3.0  from http://www.apache.org/dist/spark/ and enter as the spark version\n",
        "# For example:\n",
        "# spark_version = 'spark-3.2.1'\n",
        "spark_version = 'spark-3.2.1'\n",
        "os.environ['SPARK_VERSION']=spark_version\n",
        "\n",
        "# Install Spark and Java\n",
        "!apt-get update\n",
        "!apt-get install openjdk-11-jdk-headless -qq > /dev/null\n",
        "!wget -q http://www.apache.org/dist/spark/$SPARK_VERSION/$SPARK_VERSION-bin-hadoop2.7.tgz\n",
        "!tar xf $SPARK_VERSION-bin-hadoop2.7.tgz\n",
        "!pip install -q findspark\n",
        "\n",
        "# Set Environment Variables\n",
        "import os\n",
        "os.environ[\"JAVA_HOME\"] = \"/usr/lib/jvm/java-11-openjdk-amd64\"\n",
        "os.environ[\"SPARK_HOME\"] = f\"/content/{spark_version}-bin-hadoop2.7\"\n",
        "\n",
        "# Start a SparkSession\n",
        "import findspark\n",
        "findspark.init()"
      ]
    },
    {
      "cell_type": "code",
      "source": [
        "# Download the Postgres driver that will allow Spark to interact with Postgres.\n",
        "!wget https://jdbc.postgresql.org/download/postgresql-42.2.16.jar"
      ],
      "metadata": {
        "colab": {
          "base_uri": "https://localhost:8080/"
        },
        "id": "3UtoB870m94a",
        "outputId": "f0e3ade9-74c6-4f7e-90bd-63bfecd02f5a"
      },
      "execution_count": 2,
      "outputs": [
        {
          "output_type": "stream",
          "name": "stdout",
          "text": [
            "--2022-06-06 21:16:51--  https://jdbc.postgresql.org/download/postgresql-42.2.16.jar\n",
            "Resolving jdbc.postgresql.org (jdbc.postgresql.org)... 72.32.157.228, 2001:4800:3e1:1::228\n",
            "Connecting to jdbc.postgresql.org (jdbc.postgresql.org)|72.32.157.228|:443... connected.\n",
            "HTTP request sent, awaiting response... 200 OK\n",
            "Length: 1002883 (979K) [application/java-archive]\n",
            "Saving to: ‘postgresql-42.2.16.jar’\n",
            "\n",
            "postgresql-42.2.16. 100%[===================>] 979.38K  5.71MB/s    in 0.2s    \n",
            "\n",
            "2022-06-06 21:16:51 (5.71 MB/s) - ‘postgresql-42.2.16.jar’ saved [1002883/1002883]\n",
            "\n"
          ]
        }
      ]
    },
    {
      "cell_type": "code",
      "source": [
        "from pyspark.sql import SparkSession\n",
        "spark = SparkSession.builder.appName(\"M16-Amazon-Challenge\").config(\"spark.driver.extraClassPath\",\"/content/postgresql-42.2.16.jar\").getOrCreate()"
      ],
      "metadata": {
        "id": "2jgKdKl4nA4F"
      },
      "execution_count": 3,
      "outputs": []
    },
    {
      "cell_type": "code",
      "source": [
        "from pyspark import SparkFiles\n",
        "url = \"https://s3.amazonaws.com/amazon-reviews-pds/tsv/amazon_reviews_us_Music_v1_00.tsv.gz\"\n",
        "spark.sparkContext.addFile(url)\n",
        "df = spark.read.option(\"encoding\", \"UTF-8\").csv(SparkFiles.get(\"\"), sep=\"\\t\", header=True, inferSchema=True)\n",
        "df.show()"
      ],
      "metadata": {
        "colab": {
          "base_uri": "https://localhost:8080/"
        },
        "id": "73KDppAhnDt-",
        "outputId": "698ebc41-6580-49fc-d9fd-da5b87f5a304"
      },
      "execution_count": 4,
      "outputs": [
        {
          "output_type": "stream",
          "name": "stdout",
          "text": [
            "+-----------+-----------+--------------+----------+--------------+--------------------+----------------+-----------+-------------+-----------+----+-----------------+--------------------+--------------------+-----------+\n",
            "|marketplace|customer_id|     review_id|product_id|product_parent|       product_title|product_category|star_rating|helpful_votes|total_votes|vine|verified_purchase|     review_headline|         review_body|review_date|\n",
            "+-----------+-----------+--------------+----------+--------------+--------------------+----------------+-----------+-------------+-----------+----+-----------------+--------------------+--------------------+-----------+\n",
            "|         US|   10140119|R3LI5TRP3YIDQL|B00TXH4OLC|     384427924|Whatever's for Us...|           Music|          5|            0|          0|   N|                Y|          Five Stars|Love this CD alon...| 2015-08-31|\n",
            "|         US|   27664622|R3LGC3EKEG84PX|B00B6QXN6U|     831769051|Same Trailer Diff...|           Music|          5|            0|          0|   N|                Y|A new fave in our...|This is the album...| 2015-08-31|\n",
            "|         US|   45946560| R9PYL3OYH55QY|B001GCZXW6|      14067376| Soaring (Jazz Club)|           Music|          5|            0|          1|   N|                Y|          Five Stars|  Excellent / thanks| 2015-08-31|\n",
            "|         US|   15146326|R3PWBAWUS4NT0Q|B000003EK6|     566295619|     CARIBBEAN PARTY|           Music|          3|            0|          0|   N|                Y|         Three Stars|Nice variety of c...| 2015-08-31|\n",
            "|         US|   16794688|R15LYP3O51UU9E|B00N1F0BKK|     210426072|         Pain Killer|           Music|          5|            0|          0|   N|                Y|          Five Stars|Purchased as a gi...| 2015-08-31|\n",
            "|         US|   32203364|R1AD7L0CC3DSRI|B00V7KAO7Q|     360249504|A Thoughtiverse U...|           Music|          5|            0|          0|   N|                Y|Definitely worth ...|Really enjoyed th...| 2015-08-31|\n",
            "|         US|    1194276|R32FE8Y45QV434|B000094Q4P|      20972283|Comfort of Her Wings|           Music|          5|            0|          0|   N|                Y|          Five Stars|            Great CD| 2015-08-31|\n",
            "|         US|   45813052|R3NM4MZ4XWL43Q|B00JMK0P1I|     378049560|Sleep Soundly CD ...|           Music|          5|            1|          2|   N|                Y|          Five Stars|       Excellent CD!| 2015-08-31|\n",
            "|         US|   12795687|R3H4FXX6Q7I37D|B008OW1S3O|     141620702|     An Awesome Wave|           Music|          4|            0|          0|   N|                Y|          Four Stars|                nice| 2015-08-31|\n",
            "|         US|   36673840|R30L5PET7LFFDC|B00VI2L3L4|     920557135|          Blurryface|           Music|          5|            1|          1|   N|                Y|        Outstanding!|Outstanding music...| 2015-08-31|\n",
            "|         US|   49453576|  REFRE1LEKLAF|B0000041EV|     683128964|Mozart For Mother...|           Music|          4|            1|          1|   N|                Y|          Four Stars|      quite relaxing| 2015-08-31|\n",
            "|         US|    3285047|R3JTJ5EQN74E9H|B00005YW4H|     268461622|   Come Away with Me|           Music|          5|            0|          0|   N|                Y|          Five Stars|I love this CD.  ...| 2015-08-31|\n",
            "|         US|   24471201|R1W2F091LCOAW5|B00Q9KEZV0|     444090572| Tomorrow Is My Turn|           Music|          5|            0|          0|   N|                Y|FIve Stars and Th...|Rhiannon Giddens ...| 2015-08-31|\n",
            "|         US|   28049396| RYUMFQRRB1FNM|B00GFXRKHW|     482597726|       The Outsiders|           Music|          3|            0|          0|   N|                Y|         Three Stars|Wrecking Ball is ...| 2015-08-31|\n",
            "|         US|   41137196| RHCS6VVXWV3Q3|B004L3AQ10|     609457123|  The Lincoln Lawyer|           Music|          5|            0|          0|   N|                Y|          Five Stars|I was pleased wit...| 2015-08-31|\n",
            "|         US|   43305401|R35UL1YZ2142SL|B0000025PM|     125399885|Bach: Goldberg Va...|           Music|          5|            0|          0|   N|                Y|   The Creative Flow|The music that in...| 2015-08-31|\n",
            "|         US|   50808489|  RU1O6QD1LEBB|B00701QUN8|     144457491|Quiet Riot - Grea...|           Music|          5|            0|          0|   N|                Y|          Five Stars|   Excellent CD&#62;| 2015-08-31|\n",
            "|         US|   15536614|R36RXVL3XIZFH7|B003UJC2QI|     207971309|Love Or Money/Lov...|           Music|          5|            0|          0|   N|                N|    Great Pop Single|Love Or Money by ...| 2015-08-31|\n",
            "|         US|   32536909|R16O7SHYHLEYA1|B00LGA16J2|     760666287|Jonas Kaufmann - ...|           Music|          5|            0|          0|   N|                Y|          Five Stars|      Just splendid!| 2015-08-31|\n",
            "|         US|   51160312|R1Y5GX65Z2V9BG|B00ZGVMLLE|      37408836|        Clockworking|           Music|          5|            0|          0|   N|                N|Glorious Glorious...|One of my favorit...| 2015-08-31|\n",
            "+-----------+-----------+--------------+----------+--------------+--------------------+----------------+-----------+-------------+-----------+----+-----------------+--------------------+--------------------+-----------+\n",
            "only showing top 20 rows\n",
            "\n"
          ]
        }
      ]
    },
    {
      "cell_type": "code",
      "source": [
        "# Create the vine_table. DataFrame\n",
        "vine_df = df.select(['review_id', 'star_rating', 'helpful_votes', 'total_votes', 'vine', 'verified_purchase'])\n",
        "vine_df.show()"
      ],
      "metadata": {
        "colab": {
          "base_uri": "https://localhost:8080/"
        },
        "id": "sEUOmXATnGJx",
        "outputId": "9901ac08-3f2e-4fca-aa65-7e35e2578d45"
      },
      "execution_count": 5,
      "outputs": [
        {
          "output_type": "stream",
          "name": "stdout",
          "text": [
            "+--------------+-----------+-------------+-----------+----+-----------------+\n",
            "|     review_id|star_rating|helpful_votes|total_votes|vine|verified_purchase|\n",
            "+--------------+-----------+-------------+-----------+----+-----------------+\n",
            "|R3LI5TRP3YIDQL|          5|            0|          0|   N|                Y|\n",
            "|R3LGC3EKEG84PX|          5|            0|          0|   N|                Y|\n",
            "| R9PYL3OYH55QY|          5|            0|          1|   N|                Y|\n",
            "|R3PWBAWUS4NT0Q|          3|            0|          0|   N|                Y|\n",
            "|R15LYP3O51UU9E|          5|            0|          0|   N|                Y|\n",
            "|R1AD7L0CC3DSRI|          5|            0|          0|   N|                Y|\n",
            "|R32FE8Y45QV434|          5|            0|          0|   N|                Y|\n",
            "|R3NM4MZ4XWL43Q|          5|            1|          2|   N|                Y|\n",
            "|R3H4FXX6Q7I37D|          4|            0|          0|   N|                Y|\n",
            "|R30L5PET7LFFDC|          5|            1|          1|   N|                Y|\n",
            "|  REFRE1LEKLAF|          4|            1|          1|   N|                Y|\n",
            "|R3JTJ5EQN74E9H|          5|            0|          0|   N|                Y|\n",
            "|R1W2F091LCOAW5|          5|            0|          0|   N|                Y|\n",
            "| RYUMFQRRB1FNM|          3|            0|          0|   N|                Y|\n",
            "| RHCS6VVXWV3Q3|          5|            0|          0|   N|                Y|\n",
            "|R35UL1YZ2142SL|          5|            0|          0|   N|                Y|\n",
            "|  RU1O6QD1LEBB|          5|            0|          0|   N|                Y|\n",
            "|R36RXVL3XIZFH7|          5|            0|          0|   N|                N|\n",
            "|R16O7SHYHLEYA1|          5|            0|          0|   N|                Y|\n",
            "|R1Y5GX65Z2V9BG|          5|            0|          0|   N|                N|\n",
            "+--------------+-----------+-------------+-----------+----+-----------------+\n",
            "only showing top 20 rows\n",
            "\n"
          ]
        }
      ]
    },
    {
      "cell_type": "code",
      "source": [
        "# Load in a sql function to use columns\n",
        "from pyspark.sql.functions import col\n",
        "\n",
        "# Filter for columns with total votes is greater than 20\n",
        "vine_greater20votes_df = vine_df.filter(col(\"total_votes\") >= 20)\n",
        "vine_greater20votes_df.show()"
      ],
      "metadata": {
        "colab": {
          "base_uri": "https://localhost:8080/"
        },
        "id": "4Y8i_gEg4uCS",
        "outputId": "67dbe058-3665-47a9-fd62-b674fdaad891"
      },
      "execution_count": 6,
      "outputs": [
        {
          "output_type": "stream",
          "name": "stdout",
          "text": [
            "+--------------+-----------+-------------+-----------+----+-----------------+\n",
            "|     review_id|star_rating|helpful_votes|total_votes|vine|verified_purchase|\n",
            "+--------------+-----------+-------------+-----------+----+-----------------+\n",
            "|R2SHXRL6SL1GC9|          3|           25|         26|   N|                Y|\n",
            "|R2ZC033X86YOY8|          5|           25|         26|   N|                N|\n",
            "|R2736RJGCOSL80|          5|           19|         20|   N|                Y|\n",
            "| RRY5DJ6J9BKAX|          5|           19|         21|   N|                Y|\n",
            "|R2P4PJJ2ROTPBM|          5|           46|         48|   N|                N|\n",
            "| RO8RAEGB66BKR|          4|           46|         46|   N|                N|\n",
            "| RRFZ7QZTRJC59|          5|          292|        300|   N|                N|\n",
            "| RFN4PNRUD1UW2|          4|           21|         22|   N|                N|\n",
            "| RO7EBJEP7IHIX|          5|           26|         26|   N|                N|\n",
            "|R1CVS4MK9RTNNP|          2|           11|         22|   N|                N|\n",
            "| REIWYIGFMEKEV|          5|           26|         30|   N|                Y|\n",
            "|R2FV27WWRWROZU|          4|           26|         27|   N|                N|\n",
            "|R30I82JFOSSJMA|          3|           14|         20|   N|                Y|\n",
            "|R2FUEC06SD2TZ1|          1|            2|         24|   N|                Y|\n",
            "|R16QHOYRY9QLQU|          5|           36|         39|   N|                N|\n",
            "|R1CQON45M11K9Q|          5|          125|        131|   N|                Y|\n",
            "|R1WYWVRXAGND36|          5|           24|         25|   N|                N|\n",
            "| R6RZ581R948P7|          1|           29|         42|   N|                Y|\n",
            "| RBRZ21U9GFORT|          5|           28|         33|   N|                N|\n",
            "|R2Y6OCM9IEH9QO|          1|           12|         21|   N|                N|\n",
            "+--------------+-----------+-------------+-----------+----+-----------------+\n",
            "only showing top 20 rows\n",
            "\n"
          ]
        }
      ]
    },
    {
      "cell_type": "code",
      "source": [
        "# Create a new df with column of ratio of helpful vs total votes\n",
        "vine_helpful_ratio_df = vine_greater20votes_df.withColumn(\"helpful_ratio\", vine_greater20votes_df[\"helpful_votes\"] / vine_greater20votes_df[\"total_votes\"])\n",
        "vine_helpful_ratio_df.show()"
      ],
      "metadata": {
        "colab": {
          "base_uri": "https://localhost:8080/"
        },
        "id": "W6PEpZ_W7PEQ",
        "outputId": "71f94ec0-3927-438e-c0a0-093911fe54c8"
      },
      "execution_count": 9,
      "outputs": [
        {
          "output_type": "stream",
          "name": "stdout",
          "text": [
            "+--------------+-----------+-------------+-----------+----+-----------------+-------------------+\n",
            "|     review_id|star_rating|helpful_votes|total_votes|vine|verified_purchase|      helpful_ratio|\n",
            "+--------------+-----------+-------------+-----------+----+-----------------+-------------------+\n",
            "|R2SHXRL6SL1GC9|          3|           25|         26|   N|                Y| 0.9615384615384616|\n",
            "|R2ZC033X86YOY8|          5|           25|         26|   N|                N| 0.9615384615384616|\n",
            "|R2736RJGCOSL80|          5|           19|         20|   N|                Y|               0.95|\n",
            "| RRY5DJ6J9BKAX|          5|           19|         21|   N|                Y| 0.9047619047619048|\n",
            "|R2P4PJJ2ROTPBM|          5|           46|         48|   N|                N| 0.9583333333333334|\n",
            "| RO8RAEGB66BKR|          4|           46|         46|   N|                N|                1.0|\n",
            "| RRFZ7QZTRJC59|          5|          292|        300|   N|                N| 0.9733333333333334|\n",
            "| RFN4PNRUD1UW2|          4|           21|         22|   N|                N| 0.9545454545454546|\n",
            "| RO7EBJEP7IHIX|          5|           26|         26|   N|                N|                1.0|\n",
            "|R1CVS4MK9RTNNP|          2|           11|         22|   N|                N|                0.5|\n",
            "| REIWYIGFMEKEV|          5|           26|         30|   N|                Y| 0.8666666666666667|\n",
            "|R2FV27WWRWROZU|          4|           26|         27|   N|                N| 0.9629629629629629|\n",
            "|R30I82JFOSSJMA|          3|           14|         20|   N|                Y|                0.7|\n",
            "|R2FUEC06SD2TZ1|          1|            2|         24|   N|                Y|0.08333333333333333|\n",
            "|R16QHOYRY9QLQU|          5|           36|         39|   N|                N| 0.9230769230769231|\n",
            "|R1CQON45M11K9Q|          5|          125|        131|   N|                Y| 0.9541984732824428|\n",
            "|R1WYWVRXAGND36|          5|           24|         25|   N|                N|               0.96|\n",
            "| R6RZ581R948P7|          1|           29|         42|   N|                Y| 0.6904761904761905|\n",
            "| RBRZ21U9GFORT|          5|           28|         33|   N|                N| 0.8484848484848485|\n",
            "|R2Y6OCM9IEH9QO|          1|           12|         21|   N|                N| 0.5714285714285714|\n",
            "+--------------+-----------+-------------+-----------+----+-----------------+-------------------+\n",
            "only showing top 20 rows\n",
            "\n"
          ]
        }
      ]
    },
    {
      "cell_type": "code",
      "source": [
        "# Filter for all the rows where the number of helpful_votes divided by total_votes is equal to or greater than 50%\n",
        "vine_helpful_votes_df = vine_helpful_ratio_df.filter(col(\"helpful_ratio\") >= .5 )\n",
        "vine_helpful_votes_df.show()"
      ],
      "metadata": {
        "colab": {
          "base_uri": "https://localhost:8080/"
        },
        "id": "3_Md8aPB6RQx",
        "outputId": "75fc1dbc-e965-4337-8541-9248e3534bf8"
      },
      "execution_count": 11,
      "outputs": [
        {
          "output_type": "stream",
          "name": "stdout",
          "text": [
            "+--------------+-----------+-------------+-----------+----+-----------------+------------------+\n",
            "|     review_id|star_rating|helpful_votes|total_votes|vine|verified_purchase|     helpful_ratio|\n",
            "+--------------+-----------+-------------+-----------+----+-----------------+------------------+\n",
            "|R2SHXRL6SL1GC9|          3|           25|         26|   N|                Y|0.9615384615384616|\n",
            "|R2ZC033X86YOY8|          5|           25|         26|   N|                N|0.9615384615384616|\n",
            "|R2736RJGCOSL80|          5|           19|         20|   N|                Y|              0.95|\n",
            "| RRY5DJ6J9BKAX|          5|           19|         21|   N|                Y|0.9047619047619048|\n",
            "|R2P4PJJ2ROTPBM|          5|           46|         48|   N|                N|0.9583333333333334|\n",
            "| RO8RAEGB66BKR|          4|           46|         46|   N|                N|               1.0|\n",
            "| RRFZ7QZTRJC59|          5|          292|        300|   N|                N|0.9733333333333334|\n",
            "| RFN4PNRUD1UW2|          4|           21|         22|   N|                N|0.9545454545454546|\n",
            "| RO7EBJEP7IHIX|          5|           26|         26|   N|                N|               1.0|\n",
            "|R1CVS4MK9RTNNP|          2|           11|         22|   N|                N|               0.5|\n",
            "| REIWYIGFMEKEV|          5|           26|         30|   N|                Y|0.8666666666666667|\n",
            "|R2FV27WWRWROZU|          4|           26|         27|   N|                N|0.9629629629629629|\n",
            "|R30I82JFOSSJMA|          3|           14|         20|   N|                Y|               0.7|\n",
            "|R16QHOYRY9QLQU|          5|           36|         39|   N|                N|0.9230769230769231|\n",
            "|R1CQON45M11K9Q|          5|          125|        131|   N|                Y|0.9541984732824428|\n",
            "|R1WYWVRXAGND36|          5|           24|         25|   N|                N|              0.96|\n",
            "| R6RZ581R948P7|          1|           29|         42|   N|                Y|0.6904761904761905|\n",
            "| RBRZ21U9GFORT|          5|           28|         33|   N|                N|0.8484848484848485|\n",
            "|R2Y6OCM9IEH9QO|          1|           12|         21|   N|                N|0.5714285714285714|\n",
            "|R26I5D95TEK226|          5|           52|         56|   N|                N|0.9285714285714286|\n",
            "+--------------+-----------+-------------+-----------+----+-----------------+------------------+\n",
            "only showing top 20 rows\n",
            "\n"
          ]
        }
      ]
    },
    {
      "cell_type": "code",
      "source": [
        "vine_helpful_votes_df.count()"
      ],
      "metadata": {
        "colab": {
          "base_uri": "https://localhost:8080/"
        },
        "id": "-1BU4s_H_L-r",
        "outputId": "f124e773-84b9-4342-a803-d7fba92cd600"
      },
      "execution_count": 15,
      "outputs": [
        {
          "output_type": "execute_result",
          "data": {
            "text/plain": [
              "105986"
            ]
          },
          "metadata": {},
          "execution_count": 15
        }
      ]
    },
    {
      "cell_type": "code",
      "source": [
        "# all the rows where a review was written as part of the Vine program (paid), vine == 'Y'\n",
        "vine_paid_df = vine_helpful_votes_df.filter(col(\"vine\") == \"Y\")\n",
        "vine_paid_df.show()"
      ],
      "metadata": {
        "colab": {
          "base_uri": "https://localhost:8080/"
        },
        "id": "rCpisXWN7s6V",
        "outputId": "17f58ed1-7745-4933-bb06-cea5b57743fe"
      },
      "execution_count": 13,
      "outputs": [
        {
          "output_type": "stream",
          "name": "stdout",
          "text": [
            "+--------------+-----------+-------------+-----------+----+-----------------+------------------+\n",
            "|     review_id|star_rating|helpful_votes|total_votes|vine|verified_purchase|     helpful_ratio|\n",
            "+--------------+-----------+-------------+-----------+----+-----------------+------------------+\n",
            "| R84VUCDBCI29U|          3|           18|         28|   Y|                N|0.6428571428571429|\n",
            "| R4V3ICFDTIDIF|          4|           20|         21|   Y|                N|0.9523809523809523|\n",
            "|R1JZ0JAPW83WFS|          4|           54|         58|   Y|                N|0.9310344827586207|\n",
            "|R1XH7EA97FAVP7|          3|           35|         44|   Y|                N|0.7954545454545454|\n",
            "|R1482JAU1ZR7QH|          4|           15|         22|   Y|                N|0.6818181818181818|\n",
            "|R1GGYGVTHP84DG|          4|           25|         27|   Y|                N|0.9259259259259259|\n",
            "| RXGU9DSKZJSP0|          3|           21|         22|   Y|                N|0.9545454545454546|\n",
            "+--------------+-----------+-------------+-----------+----+-----------------+------------------+\n",
            "\n"
          ]
        }
      ]
    },
    {
      "cell_type": "code",
      "source": [
        "# all the rows where a review was written as part of the Vine program (unpaid), vine == 'N'\n",
        "vine_unpaid_df = vine_helpful_votes_df.filter(col(\"vine\") == \"N\")\n",
        "vine_unpaid_df.show()"
      ],
      "metadata": {
        "colab": {
          "base_uri": "https://localhost:8080/"
        },
        "id": "sOt9T6No-elR",
        "outputId": "b627a77c-ec74-4f97-c5c6-4351fc85a74c"
      },
      "execution_count": 14,
      "outputs": [
        {
          "output_type": "stream",
          "name": "stdout",
          "text": [
            "+--------------+-----------+-------------+-----------+----+-----------------+------------------+\n",
            "|     review_id|star_rating|helpful_votes|total_votes|vine|verified_purchase|     helpful_ratio|\n",
            "+--------------+-----------+-------------+-----------+----+-----------------+------------------+\n",
            "|R2SHXRL6SL1GC9|          3|           25|         26|   N|                Y|0.9615384615384616|\n",
            "|R2ZC033X86YOY8|          5|           25|         26|   N|                N|0.9615384615384616|\n",
            "|R2736RJGCOSL80|          5|           19|         20|   N|                Y|              0.95|\n",
            "| RRY5DJ6J9BKAX|          5|           19|         21|   N|                Y|0.9047619047619048|\n",
            "|R2P4PJJ2ROTPBM|          5|           46|         48|   N|                N|0.9583333333333334|\n",
            "| RO8RAEGB66BKR|          4|           46|         46|   N|                N|               1.0|\n",
            "| RRFZ7QZTRJC59|          5|          292|        300|   N|                N|0.9733333333333334|\n",
            "| RFN4PNRUD1UW2|          4|           21|         22|   N|                N|0.9545454545454546|\n",
            "| RO7EBJEP7IHIX|          5|           26|         26|   N|                N|               1.0|\n",
            "|R1CVS4MK9RTNNP|          2|           11|         22|   N|                N|               0.5|\n",
            "| REIWYIGFMEKEV|          5|           26|         30|   N|                Y|0.8666666666666667|\n",
            "|R2FV27WWRWROZU|          4|           26|         27|   N|                N|0.9629629629629629|\n",
            "|R30I82JFOSSJMA|          3|           14|         20|   N|                Y|               0.7|\n",
            "|R16QHOYRY9QLQU|          5|           36|         39|   N|                N|0.9230769230769231|\n",
            "|R1CQON45M11K9Q|          5|          125|        131|   N|                Y|0.9541984732824428|\n",
            "|R1WYWVRXAGND36|          5|           24|         25|   N|                N|              0.96|\n",
            "| R6RZ581R948P7|          1|           29|         42|   N|                Y|0.6904761904761905|\n",
            "| RBRZ21U9GFORT|          5|           28|         33|   N|                N|0.8484848484848485|\n",
            "|R2Y6OCM9IEH9QO|          1|           12|         21|   N|                N|0.5714285714285714|\n",
            "|R26I5D95TEK226|          5|           52|         56|   N|                N|0.9285714285714286|\n",
            "+--------------+-----------+-------------+-----------+----+-----------------+------------------+\n",
            "only showing top 20 rows\n",
            "\n"
          ]
        }
      ]
    },
    {
      "cell_type": "code",
      "source": [
        "# Total number of paid reviews\n",
        "total_paid_votes = vine_paid_df.count()\n",
        "print(total_paid_votes)"
      ],
      "metadata": {
        "colab": {
          "base_uri": "https://localhost:8080/"
        },
        "id": "zJkl-VSxAIn_",
        "outputId": "5c47e712-9d44-4060-9d34-357146b2fca3"
      },
      "execution_count": 20,
      "outputs": [
        {
          "output_type": "stream",
          "name": "stdout",
          "text": [
            "7\n"
          ]
        }
      ]
    },
    {
      "cell_type": "code",
      "source": [
        "# Total number of unpaid reviews\n",
        "total_unpaid_votes = vine_unpaid_df.count()\n",
        "print(total_unpaid_votes)"
      ],
      "metadata": {
        "colab": {
          "base_uri": "https://localhost:8080/"
        },
        "id": "i1sW-HA4-7HJ",
        "outputId": "ab34435b-200c-4cbf-ff2d-e1589e5701d1"
      },
      "execution_count": 21,
      "outputs": [
        {
          "output_type": "stream",
          "name": "stdout",
          "text": [
            "105979\n"
          ]
        }
      ]
    },
    {
      "cell_type": "code",
      "source": [
        "# Total number of 5 star reviews of paid reviews\n",
        "five_star_paid_votes = vine_paid_df.filter(col(\"star_rating\") == 5).count()\n",
        "print(five_star_paid_votes)"
      ],
      "metadata": {
        "colab": {
          "base_uri": "https://localhost:8080/"
        },
        "id": "uCg7j9vO_f5q",
        "outputId": "fa1bfd9a-f289-43fd-a458-54471f5bda4d"
      },
      "execution_count": 22,
      "outputs": [
        {
          "output_type": "stream",
          "name": "stdout",
          "text": [
            "0\n"
          ]
        }
      ]
    },
    {
      "cell_type": "code",
      "source": [
        "# Total number of 5 star reviews of unpaid reviews\n",
        "five_star_unpaid_votes = vine_unpaid_df.filter(col(\"star_rating\") == 5).count()\n",
        "print(five_star_unpaid_votes)"
      ],
      "metadata": {
        "colab": {
          "base_uri": "https://localhost:8080/"
        },
        "id": "xoNVN58JBX8t",
        "outputId": "3b5cc84f-8596-4564-f155-2aec236eb018"
      },
      "execution_count": 23,
      "outputs": [
        {
          "output_type": "stream",
          "name": "stdout",
          "text": [
            "67580\n"
          ]
        }
      ]
    },
    {
      "cell_type": "code",
      "source": [
        "# Percentage of 5 star reviews for paid reviews\n",
        "paid_percent_five_star = (five_star_paid_votes / total_paid_votes)*100\n",
        "print(paid_percent_five_star)"
      ],
      "metadata": {
        "colab": {
          "base_uri": "https://localhost:8080/"
        },
        "id": "67EiXW1hBzoH",
        "outputId": "0baaa1ca-5742-4367-f5fd-bcf49c490085"
      },
      "execution_count": 27,
      "outputs": [
        {
          "output_type": "stream",
          "name": "stdout",
          "text": [
            "0.0\n"
          ]
        }
      ]
    },
    {
      "cell_type": "code",
      "source": [
        "# Percentage of 5 star reviews for unpaid reviews\n",
        "unpaid_percent_five_star = (five_star_unpaid_votes / total_unpaid_votes)*100\n",
        "print(unpaid_percent_five_star)"
      ],
      "metadata": {
        "colab": {
          "base_uri": "https://localhost:8080/"
        },
        "id": "vKLE6ujOCLs0",
        "outputId": "d619d54a-7ca7-4da3-8a3b-85c7a5adb4f4"
      },
      "execution_count": 31,
      "outputs": [
        {
          "output_type": "stream",
          "name": "stdout",
          "text": [
            "63.767350135404186\n"
          ]
        }
      ]
    },
    {
      "cell_type": "code",
      "source": [
        ""
      ],
      "metadata": {
        "id": "CTmg5Aj5CxwB"
      },
      "execution_count": null,
      "outputs": []
    }
  ]
}